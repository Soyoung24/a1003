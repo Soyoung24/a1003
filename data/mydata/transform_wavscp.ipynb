{
 "cells": [
  {
   "cell_type": "code",
   "execution_count": 22,
   "id": "announced-impossible",
   "metadata": {},
   "outputs": [],
   "source": [
    "f=open('wav.scp',\"r\")"
   ]
  },
  {
   "cell_type": "code",
   "execution_count": 23,
   "id": "hired-exhibition",
   "metadata": {},
   "outputs": [
    {
     "data": {
      "text/plain": [
       "'data/mydata/wav/1.wav\\ndata/mydata/wav/10.wav\\ndata/mydata/wav/2.wav\\ndata/mydata/wav/3.wav\\ndata/mydata/wav/4.wav\\ndata/mydata/wav/5.wav\\ndata/mydata/wav/6.wav\\ndata/mydata/wav/7.wav\\ndata/mydata/wav/8.wav\\ndata/mydata/wav/9.wav\\n'"
      ]
     },
     "execution_count": 23,
     "metadata": {},
     "output_type": "execute_result"
    }
   ],
   "source": [
    "data=f.read()\n",
    "data"
   ]
  },
  {
   "cell_type": "code",
   "execution_count": 26,
   "id": "positive-capability",
   "metadata": {},
   "outputs": [
    {
     "data": {
      "text/plain": [
       "['data/mydata/wav/1.wav',\n",
       " 'data/mydata/wav/10.wav',\n",
       " 'data/mydata/wav/2.wav',\n",
       " 'data/mydata/wav/3.wav',\n",
       " 'data/mydata/wav/4.wav',\n",
       " 'data/mydata/wav/5.wav',\n",
       " 'data/mydata/wav/6.wav',\n",
       " 'data/mydata/wav/7.wav',\n",
       " 'data/mydata/wav/8.wav',\n",
       " 'data/mydata/wav/9.wav']"
      ]
     },
     "execution_count": 26,
     "metadata": {},
     "output_type": "execute_result"
    }
   ],
   "source": [
    "filename=data.split(\"\\n\")\n",
    "filename=filename[:10]\n",
    "filename"
   ]
  },
  {
   "cell_type": "code",
   "execution_count": 30,
   "id": "involved-pricing",
   "metadata": {},
   "outputs": [],
   "source": [
    "scp_new = open('wav.scp', 'w')\n",
    "for i in filename:\n",
    "    data = i.split('/')[-1].split('.')[0] + '\\t' + i + '\\n'\n",
    "    scp_new.write(data)\n",
    "scp_new.close()"
   ]
  },
  {
   "cell_type": "code",
   "execution_count": null,
   "id": "needed-ready",
   "metadata": {},
   "outputs": [],
   "source": []
  },
  {
   "cell_type": "code",
   "execution_count": null,
   "id": "small-treaty",
   "metadata": {},
   "outputs": [],
   "source": []
  }
 ],
 "metadata": {
  "kernelspec": {
   "display_name": "Python 3",
   "language": "python",
   "name": "python3"
  },
  "language_info": {
   "codemirror_mode": {
    "name": "ipython",
    "version": 3
   },
   "file_extension": ".py",
   "mimetype": "text/x-python",
   "name": "python",
   "nbconvert_exporter": "python",
   "pygments_lexer": "ipython3",
   "version": "3.7.9"
  }
 },
 "nbformat": 4,
 "nbformat_minor": 5
}
