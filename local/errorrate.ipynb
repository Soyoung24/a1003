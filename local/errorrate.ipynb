{
 "cells": [
  {
   "cell_type": "code",
   "execution_count": 1,
   "id": "instrumental-sunset",
   "metadata": {},
   "outputs": [
    {
     "name": "stdout",
     "output_type": "stream",
     "text": [
      "wer= 0.8 , cer= 0.2\n"
     ]
    }
   ],
   "source": [
    "import editdistance\n",
    "\n",
    "def compute_wer(ref, rec):\n",
    "\n",
    "    ref_w=ref.split()\n",
    "    rec_w=rec.split()\n",
    "    wer = editdistance.eval(ref_w, rec_w)\n",
    "\n",
    "    wer = wer / len(ref_w)\n",
    "    \n",
    "    return wer\n",
    "\n",
    "def compute_cer(ref, rec):\n",
    "    \n",
    "    ref_list = ''.join(ref.split())\n",
    "    rec_list = ''.join(rec.split())\n",
    "    cer = editdistance.eval(ref_list, rec_list)\n",
    "    cer = cer / len(ref_list)\n",
    "\n",
    "    return cer\n",
    "\n",
    "ref = \"how is the weather today\"\n",
    "rec = \"how as the better to day\"\n",
    "\n",
    "\n",
    "print(\"wer=\", compute_wer(ref, rec), \", cer=\", compute_cer(ref,rec))"
   ]
  },
  {
   "cell_type": "code",
   "execution_count": 2,
   "id": "coordinated-intersection",
   "metadata": {},
   "outputs": [
    {
     "name": "stdout",
     "output_type": "stream",
     "text": [
      "wer= 1.0 , cer= 0.4\n"
     ]
    }
   ],
   "source": [
    "import editdistance\n",
    "\n",
    "def compute_wer(ref, rec):\n",
    "\n",
    "    ref_w=ref.split()\n",
    "    rec_w=rec.split()\n",
    "    wer = editdistance.eval(ref_w, rec_w)\n",
    "\n",
    "    wer = wer / len(ref_w)\n",
    "    \n",
    "    return wer\n",
    "\n",
    "def compute_cer(ref, rec):\n",
    "    \n",
    "    ref_list = ''.join(ref.split())\n",
    "    rec_list = ''.join(rec.split())\n",
    "    cer = editdistance.eval(ref_list, rec_list)\n",
    "    cer = cer / len(ref_list)\n",
    "\n",
    "    return cer\n",
    "\n",
    "ref = \"오늘 서울의 날씨가 어때\"\n",
    "rec = \"음 오눌의 날씨 가 어때\"\n",
    "\n",
    "print(\"wer=\", compute_wer(ref, rec), \", cer=\", compute_cer(ref,rec))"
   ]
  }
 ],
 "metadata": {
  "kernelspec": {
   "display_name": "Python 3",
   "language": "python",
   "name": "python3"
  },
  "language_info": {
   "codemirror_mode": {
    "name": "ipython",
    "version": 3
   },
   "file_extension": ".py",
   "mimetype": "text/x-python",
   "name": "python",
   "nbconvert_exporter": "python",
   "pygments_lexer": "ipython3",
   "version": "3.7.9"
  }
 },
 "nbformat": 4,
 "nbformat_minor": 5
}
