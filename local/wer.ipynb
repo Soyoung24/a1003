{
 "cells": [
  {
   "cell_type": "code",
   "execution_count": null,
   "id": "conditional-sterling",
   "metadata": {},
   "outputs": [],
   "source": [
    "import editdistance\n",
    "\n",
    "ref_text = \"오늘 서울의 날씨가 어때\"\n",
    "hyp_text = \"음 오늘의 날씨 가 어때\"\n",
    "\n",
    "ref = ref_text.split()\n",
    "hyp = hyp_text.split()\n",
    "\n",
    "print(ref, hyp, sep='\\n')"
   ]
  },
  {
   "cell_type": "code",
   "execution_count": null,
   "id": "requested-tunnel",
   "metadata": {},
   "outputs": [],
   "source": [
    "E = editdistance.eval(ref, hyp)\n",
    "N = len(ref)\n",
    "WER = E/N*100\n",
    "print(f\"N={N}, E={E}, WER={WER}\")"
   ]
  },
  {
   "cell_type": "code",
   "execution_count": null,
   "id": "fiscal-supply",
   "metadata": {},
   "outputs": [],
   "source": [
    "ref = list(ref_text)\n",
    "hyp = list(hyp_text)\n",
    "print(ref, hyp, sep='\\n')"
   ]
  },
  {
   "cell_type": "code",
   "execution_count": null,
   "id": "worse-natural",
   "metadata": {},
   "outputs": [],
   "source": [
    "E = editdistance.eval(ref, hyp)\n",
    "N = len(ref)\n",
    "CER = E/N*100\n",
    "print(f\"N={N}, E={E}, CER={CER}\")"
   ]
  },
  {
   "cell_type": "code",
   "execution_count": null,
   "id": "governmental-respect",
   "metadata": {},
   "outputs": [],
   "source": [
    "ref = list(''.join(ref_text.split()))\n",
    "hyp = list(''.join(hyp_text.split()))\n",
    "print(ref, hyp, sep='\\n')"
   ]
  },
  {
   "cell_type": "code",
   "execution_count": null,
   "id": "outdoor-youth",
   "metadata": {},
   "outputs": [],
   "source": [
    "E = editdistance.eval(ref, hyp)\n",
    "N = len(ref)\n",
    "CER = E/N*100\n",
    "print(f\"N={N}, E={E}, CER={CER}\")"
   ]
  },
  {
   "cell_type": "code",
   "execution_count": null,
   "id": "german-mortgage",
   "metadata": {},
   "outputs": [],
   "source": []
  }
 ],
 "metadata": {
  "kernelspec": {
   "display_name": "Python 3",
   "language": "python",
   "name": "python3"
  },
  "language_info": {
   "codemirror_mode": {
    "name": "ipython",
    "version": 3
   },
   "file_extension": ".py",
   "mimetype": "text/x-python",
   "name": "python",
   "nbconvert_exporter": "python",
   "pygments_lexer": "ipython3",
   "version": "3.7.4"
  }
 },
 "nbformat": 4,
 "nbformat_minor": 5
}
